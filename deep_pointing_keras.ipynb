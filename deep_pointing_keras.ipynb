{
  "nbformat": 4,
  "nbformat_minor": 0,
  "metadata": {
    "colab": {
      "name": "deep_pointing_keras.ipynb",
      "version": "0.3.2",
      "provenance": [],
      "include_colab_link": true
    },
    "kernelspec": {
      "name": "python3",
      "display_name": "Python 3"
    },
    "accelerator": "GPU"
  },
  "cells": [
    {
      "cell_type": "markdown",
      "metadata": {
        "id": "view-in-github",
        "colab_type": "text"
      },
      "source": [
        "[View in Colaboratory](https://colab.research.google.com/github/ysterin/deep-pointing/blob/wikisource-text/deep_pointing_keras.ipynb)"
      ]
    },
    {
      "metadata": {
        "id": "OoPQKU1dR84F",
        "colab_type": "code",
        "colab": {}
      },
      "cell_type": "code",
      "source": [
        ""
      ],
      "execution_count": 0,
      "outputs": []
    },
    {
      "metadata": {
        "id": "5SdfxAEHxPnV",
        "colab_type": "code",
        "colab": {}
      },
      "cell_type": "code",
      "source": [
        "# Install the PyDrive wrapper & import libraries.\n",
        "# This only needs to be done once per notebook.\n",
        "!pip install -U -q PyDrive\n",
        "from pydrive.auth import GoogleAuth\n",
        "from pydrive.drive import GoogleDrive\n",
        "from google.colab import auth\n",
        "from oauth2client.client import GoogleCredentials\n",
        "\n",
        "# Authenticate and create the PyDrive client.\n",
        "# This only needs to be done once per notebook.\n",
        "auth.authenticate_user()\n",
        "gauth = GoogleAuth()\n",
        "gauth.credentials = GoogleCredentials.get_application_default()\n",
        "drive = GoogleDrive(gauth)\n",
        "\n"
      ],
      "execution_count": 0,
      "outputs": []
    },
    {
      "metadata": {
        "id": "ur4fCnaM01Br",
        "colab_type": "code",
        "colab": {
          "base_uri": "https://localhost:8080/",
          "height": 34
        },
        "outputId": "70980f21-9905-4bc5-acc1-c3eb319a244d"
      },
      "cell_type": "code",
      "source": [
        "file_id = '1t4zss4j8GkqkPEKIBXpYD6brm2G3Y8DG'\n",
        "downloaded = drive.CreateFile({'id': file_id})\n",
        "print('Downloaded content \"{}\"'.format(downloaded.GetContentFile('wikisource.zip')))"
      ],
      "execution_count": 9,
      "outputs": [
        {
          "output_type": "stream",
          "text": [
            "Downloaded content \"None\"\n"
          ],
          "name": "stdout"
        }
      ]
    },
    {
      "metadata": {
        "id": "AnayKf9Gn7kZ",
        "colab_type": "code",
        "colab": {}
      },
      "cell_type": "code",
      "source": [
        "!unzip wikisource.zip\n",
        "!ls"
      ],
      "execution_count": 0,
      "outputs": []
    },
    {
      "metadata": {
        "id": "ymqcVg82BIFU",
        "colab_type": "code",
        "colab": {
          "base_uri": "https://localhost:8080/",
          "height": 197
        },
        "outputId": "07a25eee-cd21-40a9-e3b8-073c4011d1ea"
      },
      "cell_type": "code",
      "source": [
        "import os\n",
        "from random import shuffle\n"
      ],
      "execution_count": 8,
      "outputs": [
        {
          "output_type": "error",
          "ename": "TypeError",
          "evalue": "ignored",
          "traceback": [
            "\u001b[0;31m---------------------------------------------------------------------------\u001b[0m",
            "\u001b[0;31mTypeError\u001b[0m                                 Traceback (most recent call last)",
            "\u001b[0;32m<ipython-input-8-885dc17bc3a9>\u001b[0m in \u001b[0;36m<module>\u001b[0;34m()\u001b[0m\n\u001b[1;32m      1\u001b[0m \u001b[0;32mimport\u001b[0m \u001b[0mos\u001b[0m\u001b[0;34m\u001b[0m\u001b[0m\n\u001b[1;32m      2\u001b[0m \u001b[0;32mfrom\u001b[0m \u001b[0mrandom\u001b[0m \u001b[0;32mimport\u001b[0m \u001b[0mshuffle\u001b[0m\u001b[0;34m\u001b[0m\u001b[0m\n\u001b[0;32m----> 3\u001b[0;31m \u001b[0mshuffle\u001b[0m\u001b[0;34m(\u001b[0m\u001b[0mos\u001b[0m\u001b[0;34m.\u001b[0m\u001b[0mlistdir\u001b[0m\u001b[0;34m(\u001b[0m\u001b[0;34m'./wikisource'\u001b[0m\u001b[0;34m)\u001b[0m\u001b[0;34m)\u001b[0m\u001b[0;34m[\u001b[0m\u001b[0;34m:\u001b[0m\u001b[0;36m10\u001b[0m\u001b[0;34m]\u001b[0m\u001b[0;34m\u001b[0m\u001b[0m\n\u001b[0m",
            "\u001b[0;31mTypeError\u001b[0m: 'NoneType' object is not subscriptable"
          ]
        }
      ]
    },
    {
      "metadata": {
        "id": "z9Pbbd5ExoHg",
        "colab_type": "code",
        "colab": {}
      },
      "cell_type": "code",
      "source": [
        "from random import shuffle\n",
        "import os\n",
        "from os import path\n",
        "text = ''\n",
        "files_list = os.listdir('./wikisource')\n",
        "shuffle(files_list)\n",
        "for f in files_list:\n",
        "  with open(\"./wikisource/\"+f, 'rb') as file:\n",
        "    text += file.read().decode('utf-8')"
      ],
      "execution_count": 0,
      "outputs": []
    },
    {
      "metadata": {
        "id": "unZVJeAMULXj",
        "colab_type": "code",
        "colab": {}
      },
      "cell_type": "code",
      "source": [
        "import re\n",
        "\n",
        "from collections import Counter\n",
        "text = re.sub(chr(64288), chr(1506), text)\n",
        "text = re.sub(chr(64291), chr(1492), text)\n",
        "text = re.sub(chr(1469), '', text)\n",
        "text = re.sub(chr(1472), '', text)\n",
        "taam_pattern = '[' + ''.join([chr(i) for i in range(1425, 1456)]) + ']'\n",
        "text = re.sub(taam_pattern, '', text)\n",
        "counter = Counter(text)\n",
        "for c in counter:\n",
        "  if counter[c] < 500:\n",
        "    text = text.replace(c, ' ')"
      ],
      "execution_count": 0,
      "outputs": []
    },
    {
      "metadata": {
        "id": "_6QzQ8gdMkVK",
        "colab_type": "code",
        "colab": {}
      },
      "cell_type": "code",
      "source": [
        "from collections import Counter\n",
        "from pprint import pprint\n",
        "print(len(text))\n",
        "print(len(counter))\n",
        "for k, v in sorted(list(counter.items()), key=lambda a:a[0]):\n",
        "  print(ord(k), k, v)"
      ],
      "execution_count": 0,
      "outputs": []
    },
    {
      "metadata": {
        "id": "NU_wukosQEnU",
        "colab_type": "code",
        "colab": {}
      },
      "cell_type": "code",
      "source": [
        "import numpy as np\n",
        "ids = [i for i, c in enumerate(text) if ord(c)==8212]\n",
        "\n",
        "for i in np.random.choice(ids, 30):\n",
        "  print(text[i-20: i+20])\n",
        "  "
      ],
      "execution_count": 0,
      "outputs": []
    },
    {
      "metadata": {
        "id": "roboKlRgSIvG",
        "colab_type": "code",
        "colab": {}
      },
      "cell_type": "code",
      "source": [
        "# http://pytorch.org/\n",
        "from os import path\n",
        "from wheel.pep425tags import get_abbr_impl, get_impl_ver, get_abi_tag\n",
        "platform = '{}{}-{}'.format(get_abbr_impl(), get_impl_ver(), get_abi_tag())\n",
        "\n",
        "accelerator = 'cu80' if path.exists('/opt/bin/nvidia-smi') else 'cpu'\n",
        "\n",
        "!pip install -q http://download.pytorch.org/whl/{accelerator}/torch-0.3.0.post4-{platform}-linux_x86_64.whl torchvision\n",
        "import torch"
      ],
      "execution_count": 0,
      "outputs": []
    },
    {
      "metadata": {
        "id": "nynuSb9ySYKT",
        "colab_type": "code",
        "colab": {
          "base_uri": "https://localhost:8080/",
          "height": 34
        },
        "outputId": "eea31fe6-80e9-49a7-b562-21bcf4be5087"
      },
      "cell_type": "code",
      "source": [
        "len(text)"
      ],
      "execution_count": 14,
      "outputs": [
        {
          "output_type": "execute_result",
          "data": {
            "text/plain": [
              "64061639"
            ]
          },
          "metadata": {
            "tags": []
          },
          "execution_count": 14
        }
      ]
    },
    {
      "metadata": {
        "id": "e0oSYu9gTENl",
        "colab_type": "code",
        "colab": {
          "base_uri": "https://localhost:8080/",
          "height": 51
        },
        "outputId": "b30d3000-2f7a-4f3d-b827-1ec6bd35535d"
      },
      "cell_type": "code",
      "source": [
        "\n",
        "text[:100], text[-100:]"
      ],
      "execution_count": 15,
      "outputs": [
        {
          "output_type": "execute_result",
          "data": {
            "text/plain": [
              "('\\n /ניקוד\\n\\n\\nוַיְהִי דְבַר יְהוָה אֶל יֵהוּא בֶן חֲנָנִי עַל בַּעְשָׁא לֵאמֹר.\\nיַעַן אֲשֶׁר הֲרִימֹתִי',\n",
              " 'ָ וַתְּחַלְלֶהָ. \\nוְלֹא תַעֲלֶה בְמַעֲלֹת עַל מִזְבְּחִי אֲשֶׁר לֹא תִגָּלֶה עֶרְוָתְךָ עָלָיו. \\n\\n\\n\\n')"
            ]
          },
          "metadata": {
            "tags": []
          },
          "execution_count": 15
        }
      ]
    },
    {
      "metadata": {
        "id": "BDW_tevZTxVS",
        "colab_type": "code",
        "colab": {
          "base_uri": "https://localhost:8080/",
          "height": 71
        },
        "outputId": "55dab70f-82cf-4a4d-e08c-33c649c2b859"
      },
      "cell_type": "code",
      "source": [
        "import re\n",
        "chars = sorted(set(text))\n",
        "pointing_chars = [c for c in chars if 1455<ord(c)<1468 or ord(c) in [1479, 65533]]\n",
        "non_pointing_chars = [c for c in chars if not (1455<ord(c)<1480 or ord(c) == 65533) ]\n",
        "pointing_chars, non_pointing_chars\n",
        "special_chars = ['.', '[',']','}', '{', '(', ')', '\\\\', '\\/']\n",
        "np_chars_pattern = ['\\\\'+c for c in non_pointing_chars if c in special_chars] + [c for c in non_pointing_chars if c not in special_chars]\n",
        "print(np_chars_pattern)\n",
        "np_pattern = '[' + ''.join(np_chars_pattern) + ']'\n",
        "np_pattern"
      ],
      "execution_count": 17,
      "outputs": [
        {
          "output_type": "stream",
          "text": [
            "['\\\\(', '\\\\)', '\\\\.', '\\\\[', '\\\\]', '\\n', ' ', '!', '\"', \"'\", ',', '-', '/', '0', '1', '2', '3', '4', '5', '6', '7', '8', '9', ':', ';', '=', '?', 'א', 'ב', 'ג', 'ד', 'ה', 'ו', 'ז', 'ח', 'ט', 'י', 'ך', 'כ', 'ל', 'ם', 'מ', 'ן', 'נ', 'ס', 'ע', 'ף', 'פ', 'ץ', 'צ', 'ק', 'ר', 'ש', 'ת', '׳', '״', '–', '—']\n"
          ],
          "name": "stdout"
        },
        {
          "output_type": "execute_result",
          "data": {
            "text/plain": [
              "'[\\\\(\\\\)\\\\.\\\\[\\\\]\\n !\"\\',-/0123456789:;=?אבגדהוזחטיךכלםמןנסעףפץצקרשת׳״–—]'"
            ]
          },
          "metadata": {
            "tags": []
          },
          "execution_count": 17
        }
      ]
    },
    {
      "metadata": {
        "id": "x1XC4nUaZRcW",
        "colab_type": "code",
        "colab": {}
      },
      "cell_type": "code",
      "source": [
        ""
      ],
      "execution_count": 0,
      "outputs": []
    },
    {
      "metadata": {
        "id": "4GAe51wkY_3J",
        "colab_type": "code",
        "colab": {
          "base_uri": "https://localhost:8080/",
          "height": 34
        },
        "outputId": "fd1e37d3-9ed4-4157-ed23-2ea594697f36"
      },
      "cell_type": "code",
      "source": [
        "unpointed_text = ''.join(re.findall(np_pattern, text))\n",
        "pointings = re.split(np_pattern, text)[1:]\n",
        "print(len(unpointed_text), len(pointings))\n",
        "len(''.join([''.join(z) for z in zip(pointings, unpointed_text)])) == len(text)\n",
        "_text = ''.join([''.join(z) for z in zip(unpointed_text, pointings)])\n",
        "for i in range(len(text)):\n",
        "  if _text[i] != text[i]:\n",
        "    print(i, text[i], _text[i])\n",
        "    "
      ],
      "execution_count": 18,
      "outputs": [
        {
          "output_type": "stream",
          "text": [
            "38219017 38219017\n"
          ],
          "name": "stdout"
        }
      ]
    },
    {
      "metadata": {
        "id": "1ctJiVXGmZx0",
        "colab_type": "code",
        "colab": {}
      },
      "cell_type": "code",
      "source": [
        "# Create & upload a text file.\n",
        "uploaded = drive.CreateFile({'title': 'wikisource_text.txt'})\n",
        "uploaded.SetContentString(text)\n",
        "uploaded.Upload()\n",
        "print('Uploaded file with ID {}'.format(uploaded.get('id')))"
      ],
      "execution_count": 0,
      "outputs": []
    },
    {
      "metadata": {
        "id": "sttKgs5udbO_",
        "colab_type": "code",
        "colab": {}
      },
      "cell_type": "code",
      "source": [
        "Counter([len(p) for p in pointings])"
      ],
      "execution_count": 0,
      "outputs": []
    },
    {
      "metadata": {
        "id": "08Cx-cTRvfnA",
        "colab_type": "code",
        "colab": {}
      },
      "cell_type": "code",
      "source": [
        "ps2ids = {p:i for i, p in enumerate(pointing_chars)}\n",
        "cs2ids = {c:i for i, c in enumerate(non_pointing_chars)}\n",
        "ids2ps = {i:p for i, p in enumerate(pointing_chars)}\n",
        "ids2cs = {i:c for i, c in enumerate(non_pointing_chars)}"
      ],
      "execution_count": 0,
      "outputs": []
    },
    {
      "metadata": {
        "id": "-ZEw78Kdv_sg",
        "colab_type": "code",
        "colab": {
          "base_uri": "https://localhost:8080/",
          "height": 68
        },
        "outputId": "17bf1845-69b4-4384-b006-f45019acec8b"
      },
      "cell_type": "code",
      "source": [
        "from keras.utils import to_categorical\n",
        "import numpy as np\n",
        "from keras import utils\n",
        "vocab_size = len(cs2ids)\n",
        "X = np.asarray([cs2ids[c] for c in unpointed_text])\n",
        "#X = utils.to_categorical(X)\n",
        "N_points = len(pointing_chars)\n",
        "N = len(unpointed_text)\n",
        "y = np.zeros(N, dtype=np.int32)\n",
        "for i in range(N):\n",
        "  for j in range(N_points):\n",
        "    if ids2ps[j] in pointings[i]:\n",
        "      y[i] = j+1\n",
        "      break\n",
        "      \n",
        "print(y[:10])\n",
        "print(X[:10])\n",
        "y = to_categorical(y)"
      ],
      "execution_count": 20,
      "outputs": [
        {
          "output_type": "stream",
          "text": [
            "Using TensorFlow backend.\n"
          ],
          "name": "stderr"
        },
        {
          "output_type": "stream",
          "text": [
            "[0 0 0 0 0 0 0 0 0 0]\n",
            "[ 0  1 10 43 36 50 32 30  0  0]\n"
          ],
          "name": "stdout"
        }
      ]
    },
    {
      "metadata": {
        "id": "ix520l9owosI",
        "colab_type": "code",
        "colab": {
          "base_uri": "https://localhost:8080/",
          "height": 85
        },
        "outputId": "ba91b1c1-c150-4bec-b97a-4da0b19c05e8"
      },
      "cell_type": "code",
      "source": [
        "np.sum(y, axis=0)/N"
      ],
      "execution_count": 14,
      "outputs": [
        {
          "output_type": "execute_result",
          "data": {
            "text/plain": [
              "array([4.38975602e-01, 9.61286367e-02, 2.68766724e-03, 1.46530718e-02,\n",
              "       4.71780841e-04, 7.10740415e-02, 3.63907057e-02, 4.08467334e-02,\n",
              "       8.04724517e-02, 8.67580137e-02, 4.39818481e-02, 2.28158668e-05,\n",
              "       2.56142119e-03, 1.74441954e-04, 8.22365473e-05])"
            ]
          },
          "metadata": {
            "tags": []
          },
          "execution_count": 14
        }
      ]
    },
    {
      "metadata": {
        "id": "Dbe-xLMFyJmh",
        "colab_type": "code",
        "colab": {}
      },
      "cell_type": "code",
      "source": [
        "from numpy.random import permutation\n",
        "from keras.utils import Sequence, to_categorical\n",
        "class batchSeq(Sequence):\n",
        "    def __init__(self, X, y, length, stride, batch_size, randlen=True, shuffle = True):\n",
        "      self._N = X.shape[0]\n",
        "      self.X = X\n",
        "      self.y = y\n",
        "      self.length = length\n",
        "      self.stride = stride\n",
        "      self.bs = batch_size\n",
        "      self.index = 0\n",
        "      self.randlen = randlen\n",
        "      self.shuffle = shuffle\n",
        "    \n",
        "    def __len__(self):\n",
        "      return ((self._N-self.length)//self.stride)//self.bs\n",
        "\n",
        "    def __getitem__(self, idx):\n",
        "      length = self.length\n",
        "#       if np.random.rand(1)[0] < 0.05:\n",
        "#         length = length//2\n",
        "      if self.randlen: length = np.random.randint(length-10, length+10)\n",
        "      bx = [self.X[self.stride*(self.bs*idx+i):self.stride*(self.bs*idx+i)+length] for i in range(self.bs)]\n",
        "      by = [self.y[self.stride*(self.bs*idx+i):self.stride*(self.bs*idx+i)+length] for i in range(self.bs)]\n",
        "      return np.asarray(bx), np.asarray(by)\n",
        "    \n",
        "    def __iter__(self):\n",
        "      self.index = 0\n",
        "      if self.shuffle: self.permute = permutation(self.__len__())\n",
        "      return self\n",
        "    \n",
        "    def __next__(self):\n",
        "      if self.index < self.__len__():\n",
        "        self.index += 1\n",
        "        if self.shuffle: return self.__getitem__(self.permute[self.index-1])\n",
        "        else: return self.__getitem__[self.index-1]\n",
        "      else:\n",
        "        raise StopIteration"
      ],
      "execution_count": 0,
      "outputs": []
    },
    {
      "metadata": {
        "id": "tHwsTJ2JJfav",
        "colab_type": "code",
        "colab": {}
      },
      "cell_type": "code",
      "source": [
        "val_id = int(X.shape[0]*0.1)\n",
        "test_id = int(X.shape[0]*0.8)\n",
        "X_val, X_trn, X_test = X[:val_id], X[val_id:test_id], X[test_id:]\n",
        "y_val, y_trn, y_test = y[:val_id], y[val_id:test_id], y[test_id:]"
      ],
      "execution_count": 0,
      "outputs": []
    },
    {
      "metadata": {
        "id": "lWEx_nIhiZUT",
        "colab_type": "code",
        "colab": {
          "base_uri": "https://localhost:8080/",
          "height": 34
        },
        "outputId": "74bee36d-2e4e-4db1-ec97-921745afd9c5"
      },
      "cell_type": "code",
      "source": [
        "X_val.shape"
      ],
      "execution_count": 58,
      "outputs": [
        {
          "output_type": "execute_result",
          "data": {
            "text/plain": [
              "(3821901,)"
            ]
          },
          "metadata": {
            "tags": []
          },
          "execution_count": 58
        }
      ]
    },
    {
      "metadata": {
        "id": "JdyYja_k2RIy",
        "colab_type": "code",
        "colab": {
          "base_uri": "https://localhost:8080/",
          "height": 51
        },
        "outputId": "56c4ff60-a9b8-48ea-8bde-1dc3b103c3bb"
      },
      "cell_type": "code",
      "source": [
        "import tensorflow as tf\n",
        "device_name = tf.test.gpu_device_name()\n",
        "if device_name != '/device:GPU:0':\n",
        "  print('GPU device not found')\n",
        "print('Found GPU at: {}'.format(device_name))\n",
        "from keras.models import Sequential\n",
        "from keras.regularizers import Regularizer, l2, l1\n",
        "from keras.layers import Dense, Activation, Input, Dropout, GaussianNoise, concatenate, Reshape\n",
        "from keras.layers import LSTM, SimpleRNN, Bidirectional, GRU, CuDNNLSTM, CuDNNGRU, Embedding\n",
        "from keras.optimizers import RMSprop, Nadam, SGD\n",
        "from keras.models import Model\n",
        "from keras.layers import ActivityRegularization, Masking, TimeDistributed, Concatenate, Multiply, Add\n",
        "from keras.callbacks import TerminateOnNaN\n",
        "if device_name == '/device:GPU:0':\n",
        "  lstm = CuDNNLSTM \n",
        "else:\n",
        "  lstm = LSTM\n",
        "lstm"
      ],
      "execution_count": 36,
      "outputs": [
        {
          "output_type": "stream",
          "text": [
            "Found GPU at: /device:GPU:0\n"
          ],
          "name": "stdout"
        },
        {
          "output_type": "execute_result",
          "data": {
            "text/plain": [
              "keras.layers.cudnn_recurrent.CuDNNLSTM"
            ]
          },
          "metadata": {
            "tags": []
          },
          "execution_count": 36
        }
      ]
    },
    {
      "metadata": {
        "id": "jOeBpAjBao3-",
        "colab_type": "code",
        "colab": {}
      },
      "cell_type": "code",
      "source": [
        "def create_model_func(nhidden=128, bptt=60):\n",
        "  output_dim = y.shape[-1]\n",
        "  inp = Input(shape=(None,))\n",
        "  emb = Embedding(vocab_size, nhidden)(inp)\n",
        "  rnn1 = Bidirectional(lstm(nhidden, return_sequences = True))(emb)\n",
        "  rnn2 = Bidirectional(lstm(nhidden, return_sequences = True))(rnn1)\n",
        "  add1 = Add()([rnn1, rnn2])\n",
        "  rnn3 = Bidirectional(lstm(nhidden, return_sequences = True))(add1)\n",
        "  add2 = Add()([add1, rnn3])\n",
        "  rnn4 = Bidirectional(lstm(nhidden, return_sequences = True))(add2)\n",
        "  add3 = Add()([add2, rnn4])\n",
        "  dense = Dense(output_dim, activation='softmax')(add3)\n",
        "  \n",
        "  return Model(inputs=inp, outputs=dense)\n",
        "  "
      ],
      "execution_count": 0,
      "outputs": []
    },
    {
      "metadata": {
        "id": "DcWXG-je6FWQ",
        "colab_type": "code",
        "colab": {}
      },
      "cell_type": "code",
      "source": [
        "def create_model():\n",
        "  output_dim = y.shape[-1]\n",
        "  model = Sequential()\n",
        "  model.add(Embedding(vocab_size, 256))\n",
        "  model.add(Bidirectional(lstm(128, return_sequences=True)))\n",
        "  model.add(Bidirectional(lstm(128, return_sequences=True)))\n",
        "  model.add(Bidirectional(lstm(128, return_sequences=True)))\n",
        "  model.add(Bidirectional(lstm(128, return_sequences=True)))\n",
        "  model.add(Dense(output_dim, activation='softmax'))\n",
        "  #model.summary()\n",
        "  return model\n"
      ],
      "execution_count": 0,
      "outputs": []
    },
    {
      "metadata": {
        "id": "nY3HCWTU2tHz",
        "colab_type": "code",
        "colab": {
          "base_uri": "https://localhost:8080/",
          "height": 425
        },
        "outputId": "7d06181d-12c2-4835-958e-db8508bbdf97"
      },
      "cell_type": "code",
      "source": [
        "bptt = 60\n",
        "\n",
        "lr = 1e-5\n",
        "i = 0\n",
        "seq = batchSeq(X_trn, y_trn, bptt, 20, 64)\n",
        "while lr<3e-2:\n",
        "  model = create_model_func(nhidden=512)\n",
        "  opt = RMSprop(lr)\n",
        "  model.compile(loss='categorical_crossentropy', optimizer=opt, metrics=['accuracy'])\n",
        "  bx, by = seq[i]\n",
        "  print(bx.shape)\n",
        "  model.train_on_batch(bx, by)\n",
        "  bx, by = seq[i+1]\n",
        "  loss = model.train_on_batch(bx, by)\n",
        "  print(lr, loss)\n",
        "  lr *= 2\n",
        "  i += 0\n"
      ],
      "execution_count": 136,
      "outputs": [
        {
          "output_type": "stream",
          "text": [
            "(64, 54)\n",
            "1e-05 [2.6848588, 0.3927557]\n",
            "(64, 62)\n",
            "2e-05 [2.6449108, 0.5]\n",
            "(64, 57)\n",
            "4e-05 [2.5874763, 0.49804688]\n",
            "(64, 65)\n",
            "8e-05 [2.4971118, 0.49783653]\n",
            "(64, 62)\n",
            "0.00016 [2.3067336, 0.5035377]\n",
            "(64, 59)\n",
            "0.00032 [1.9925966, 0.49783653]\n",
            "(64, 67)\n",
            "0.00064 [1.971943, 0.5015121]\n",
            "(64, 64)\n",
            "0.00128 [6.756238, 0.5031829]\n",
            "(64, 56)\n",
            "0.00256 [8.067442, 0.49947917]\n",
            "(64, 67)\n",
            "0.00512 [8.002027, 0.5035377]\n",
            "(64, 50)\n",
            "0.01024 [8.007746, 0.5031829]\n",
            "(64, 63)\n",
            "0.02048 [8.050791, 0.5005123]\n"
          ],
          "name": "stdout"
        }
      ]
    },
    {
      "metadata": {
        "id": "vibpivyMdgf9",
        "colab_type": "code",
        "colab": {}
      },
      "cell_type": "code",
      "source": [
        "X_trn.shape"
      ],
      "execution_count": 0,
      "outputs": []
    },
    {
      "metadata": {
        "id": "nUonNBQ644AP",
        "colab_type": "code",
        "colab": {
          "base_uri": "https://localhost:8080/",
          "height": 904
        },
        "outputId": "b201771f-317b-417b-927d-aadd9382e193"
      },
      "cell_type": "code",
      "source": [
        "bptt = 60\n",
        "seq = batchSeq(X_trn, y_trn, bptt, bptt, 64)\n",
        "val = batchSeq(X_val, y_val, bptt, bptt, 64)\n",
        "model = create_model_func(nhidden=512)\n",
        "model.summary()\n",
        "opt = RMSprop(0.0003)\n",
        "model.compile(loss='categorical_crossentropy', optimizer=opt, metrics=['accuracy'])\n",
        "model.fit_generator(seq, validation_data=val, steps_per_epoch=2000, epochs=10)"
      ],
      "execution_count": 138,
      "outputs": [
        {
          "output_type": "stream",
          "text": [
            "__________________________________________________________________________________________________\n",
            "Layer (type)                    Output Shape         Param #     Connected to                     \n",
            "==================================================================================================\n",
            "input_50 (InputLayer)           (None, None)         0                                            \n",
            "__________________________________________________________________________________________________\n",
            "embedding_82 (Embedding)        (None, None, 512)    29696       input_50[0][0]                   \n",
            "__________________________________________________________________________________________________\n",
            "bidirectional_256 (Bidirectiona (None, None, 1024)   4202496     embedding_82[0][0]               \n",
            "__________________________________________________________________________________________________\n",
            "bidirectional_257 (Bidirectiona (None, None, 1024)   6299648     bidirectional_256[0][0]          \n",
            "__________________________________________________________________________________________________\n",
            "add_127 (Add)                   (None, None, 1024)   0           bidirectional_256[0][0]          \n",
            "                                                                 bidirectional_257[0][0]          \n",
            "__________________________________________________________________________________________________\n",
            "bidirectional_258 (Bidirectiona (None, None, 1024)   6299648     add_127[0][0]                    \n",
            "__________________________________________________________________________________________________\n",
            "add_128 (Add)                   (None, None, 1024)   0           add_127[0][0]                    \n",
            "                                                                 bidirectional_258[0][0]          \n",
            "__________________________________________________________________________________________________\n",
            "bidirectional_259 (Bidirectiona (None, None, 1024)   6299648     add_128[0][0]                    \n",
            "__________________________________________________________________________________________________\n",
            "add_129 (Add)                   (None, None, 1024)   0           add_128[0][0]                    \n",
            "                                                                 bidirectional_259[0][0]          \n",
            "__________________________________________________________________________________________________\n",
            "dense_74 (Dense)                (None, None, 15)     15375       add_129[0][0]                    \n",
            "==================================================================================================\n",
            "Total params: 23,146,511\n",
            "Trainable params: 23,146,511\n",
            "Non-trainable params: 0\n",
            "__________________________________________________________________________________________________\n",
            "Epoch 1/10\n",
            "  33/2000 [..............................] - ETA: 35:16 - loss: 1.9636 - acc: 0.4846"
          ],
          "name": "stdout"
        },
        {
          "output_type": "stream",
          "text": [
            "1999/2000 [============================>.] - ETA: 0s - loss: 0.5092 - acc: 0.8311"
          ],
          "name": "stdout"
        },
        {
          "output_type": "stream",
          "text": [
            "\b\b\b\b\b\b\b\b\b\b\b\b\b\b\b\b\b\b\b\b\b\b\b\b\b\b\b\b\b\b\b\b\b\b\b\b\b\b\b\b\b\b\b\b\b\b\b\b\b\b\b\b\b\b\b\b\b\b\b\b\b\b\b\b\b\b\b\b\b\b\b\b\b\b\b\b\b\b\b\b\b\r2000/2000 [==============================] - 1020s 510ms/step - loss: 0.5090 - acc: 0.8312 - val_loss: 0.2541 - val_acc: 0.9175\n",
            "Epoch 2/10\n",
            " 326/2000 [===>..........................] - ETA: 11:49 - loss: 0.2462 - acc: 0.9196"
          ],
          "name": "stdout"
        },
        {
          "output_type": "stream",
          "text": [
            "1999/2000 [============================>.] - ETA: 0s - loss: 0.2026 - acc: 0.9341"
          ],
          "name": "stdout"
        },
        {
          "output_type": "stream",
          "text": [
            "\b\b\b\b\b\b\b\b\b\b\b\b\b\b\b\b\b\b\b\b\b\b\b\b\b\b\b\b\b\b\b\b\b\b\b\b\b\b\b\b\b\b\b\b\b\b\b\b\b\b\b\b\b\b\b\b\b\b\b\b\b\b\b\b\b\b\b\b\b\b\b\b\b\b\b\b\b\b\b\b\b\r2000/2000 [==============================] - 996s 498ms/step - loss: 0.2026 - acc: 0.9341 - val_loss: 0.1657 - val_acc: 0.9464\n",
            "Epoch 3/10\n",
            " 327/2000 [===>..........................] - ETA: 11:54 - loss: 0.1674 - acc: 0.9460"
          ],
          "name": "stdout"
        },
        {
          "output_type": "stream",
          "text": [
            "1999/2000 [============================>.] - ETA: 0s - loss: 0.1519 - acc: 0.9509"
          ],
          "name": "stdout"
        },
        {
          "output_type": "stream",
          "text": [
            "\b\b\b\b\b\b\b\b\b\b\b\b\b\b\b\b\b\b\b\b\b\b\b\b\b\b\b\b\b\b\b\b\b\b\b\b\b\b\b\b\b\b\b\b\b\b\b\b\b\b\b\b\b\b\b\b\b\b\b\b\b\b\b\b\b\b\b\b\b\b\b\b\b\b\b\b\b\b\b\b\b\r2000/2000 [==============================] - 995s 497ms/step - loss: 0.1519 - acc: 0.9509 - val_loss: 0.1340 - val_acc: 0.9567\n",
            "Epoch 4/10\n",
            " 327/2000 [===>..........................] - ETA: 11:58 - loss: 0.1249 - acc: 0.9597"
          ],
          "name": "stdout"
        },
        {
          "output_type": "stream",
          "text": [
            "1999/2000 [============================>.] - ETA: 0s - loss: 0.1171 - acc: 0.9620"
          ],
          "name": "stdout"
        },
        {
          "output_type": "stream",
          "text": [
            "\b\b\b\b\b\b\b\b\b\b\b\b\b\b\b\b\b\b\b\b\b\b\b\b\b\b\b\b\b\b\b\b\b\b\b\b\b\b\b\b\b\b\b\b\b\b\b\b\b\b\b\b\b\b\b\b\b\b\b\b\b\b\b\b\b\b\b\b\b\b\b\b\b\b\b\b\b\b\b\b\b\r2000/2000 [==============================] - 993s 497ms/step - loss: 0.1171 - acc: 0.9620 - val_loss: 0.1165 - val_acc: 0.9626\n",
            "Epoch 5/10\n",
            " 327/2000 [===>..........................] - ETA: 11:52 - loss: 0.1137 - acc: 0.9634"
          ],
          "name": "stdout"
        },
        {
          "output_type": "stream",
          "text": [
            "1999/2000 [============================>.] - ETA: 0s - loss: 0.1065 - acc: 0.9656"
          ],
          "name": "stdout"
        },
        {
          "output_type": "stream",
          "text": [
            "\b\b\b\b\b\b\b\b\b\b\b\b\b\b\b\b\b\b\b\b\b\b\b\b\b\b\b\b\b\b\b\b\b\b\b\b\b\b\b\b\b\b\b\b\b\b\b\b\b\b\b\b\b\b\b\b\b\b\b\b\b\b\b\b\b\b\b\b\b\b\b\b\b\b\b\b\b\b\b\b\b\r2000/2000 [==============================] - 995s 498ms/step - loss: 0.1065 - acc: 0.9656 - val_loss: 0.1063 - val_acc: 0.9650\n",
            "Epoch 6/10\n",
            " 327/2000 [===>..........................] - ETA: 11:50 - loss: 0.1027 - acc: 0.9669"
          ],
          "name": "stdout"
        },
        {
          "output_type": "stream",
          "text": [
            "1999/2000 [============================>.] - ETA: 0s - loss: 0.0998 - acc: 0.9675"
          ],
          "name": "stdout"
        },
        {
          "output_type": "stream",
          "text": [
            "\b\b\b\b\b\b\b\b\b\b\b\b\b\b\b\b\b\b\b\b\b\b\b\b\b\b\b\b\b\b\b\b\b\b\b\b\b\b\b\b\b\b\b\b\b\b\b\b\b\b\b\b\b\b\b\b\b\b\b\b\b\b\b\b\b\b\b\b\b\b\b\b\b\b\b\b\b\b\b\b\b\r2000/2000 [==============================] - 995s 497ms/step - loss: 0.0998 - acc: 0.9676 - val_loss: 0.0963 - val_acc: 0.9689\n",
            "Epoch 7/10\n",
            " 327/2000 [===>..........................] - ETA: 11:52 - loss: 0.0969 - acc: 0.9686"
          ],
          "name": "stdout"
        },
        {
          "output_type": "stream",
          "text": [
            "1999/2000 [============================>.] - ETA: 0s - loss: 0.0902 - acc: 0.9705"
          ],
          "name": "stdout"
        },
        {
          "output_type": "stream",
          "text": [
            "\b\b\b\b\b\b\b\b\b\b\b\b\b\b\b\b\b\b\b\b\b\b\b\b\b\b\b\b\b\b\b\b\b\b\b\b\b\b\b\b\b\b\b\b\b\b\b\b\b\b\b\b\b\b\b\b\b\b\b\b\b\b\b\b\b\b\b\b\b\b\b\b\b\b\b\b\b\b\b\b\b\r2000/2000 [==============================] - 995s 497ms/step - loss: 0.0902 - acc: 0.9705 - val_loss: 0.0902 - val_acc: 0.9710\n",
            "Epoch 8/10\n",
            " 327/2000 [===>..........................] - ETA: 11:51 - loss: 0.0796 - acc: 0.9739"
          ],
          "name": "stdout"
        },
        {
          "output_type": "stream",
          "text": [
            "1999/2000 [============================>.] - ETA: 0s - loss: 0.0757 - acc: 0.9750"
          ],
          "name": "stdout"
        },
        {
          "output_type": "stream",
          "text": [
            "\b\b\b\b\b\b\b\b\b\b\b\b\b\b\b\b\b\b\b\b\b\b\b\b\b\b\b\b\b\b\b\b\b\b\b\b\b\b\b\b\b\b\b\b\b\b\b\b\b\b\b\b\b\b\b\b\b\b\b\b\b\b\b\b\b\b\b\b\b\b\b\b\b\b\b\b\b\b\b\b\b\r2000/2000 [==============================] - 995s 498ms/step - loss: 0.0757 - acc: 0.9750 - val_loss: 0.0864 - val_acc: 0.9725\n",
            "Epoch 9/10\n",
            " 327/2000 [===>..........................] - ETA: 12:01 - loss: 0.0725 - acc: 0.9763"
          ],
          "name": "stdout"
        },
        {
          "output_type": "stream",
          "text": [
            "1999/2000 [============================>.] - ETA: 0s - loss: 0.0733 - acc: 0.9760"
          ],
          "name": "stdout"
        },
        {
          "output_type": "stream",
          "text": [
            "\b\b\b\b\b\b\b\b\b\b\b\b\b\b\b\b\b\b\b\b\b\b\b\b\b\b\b\b\b\b\b\b\b\b\b\b\b\b\b\b\b\b\b\b\b\b\b\b\b\b\b\b\b\b\b\b\b\b\b\b\b\b\b\b\b\b\b\b\b\b\b\b\b\b\b\b\b\b\b\b\b\r2000/2000 [==============================] - 998s 499ms/step - loss: 0.0733 - acc: 0.9760 - val_loss: 0.0817 - val_acc: 0.9739\n",
            "Epoch 10/10\n",
            " 326/2000 [===>..........................] - ETA: 11:49 - loss: 0.0755 - acc: 0.9752"
          ],
          "name": "stdout"
        },
        {
          "output_type": "stream",
          "text": [
            "1999/2000 [============================>.] - ETA: 0s - loss: 0.0719 - acc: 0.9765"
          ],
          "name": "stdout"
        },
        {
          "output_type": "stream",
          "text": [
            "\b\b\b\b\b\b\b\b\b\b\b\b\b\b\b\b\b\b\b\b\b\b\b\b\b\b\b\b\b\b\b\b\b\b\b\b\b\b\b\b\b\b\b\b\b\b\b\b\b\b\b\b\b\b\b\b\b\b\b\b\b\b\b\b\b\b\b\b\b\b\b\b\b\b\b\b\b\b\b\b\b\r2000/2000 [==============================] - 996s 498ms/step - loss: 0.0719 - acc: 0.9765 - val_loss: 0.0786 - val_acc: 0.9750\n"
          ],
          "name": "stdout"
        },
        {
          "output_type": "execute_result",
          "data": {
            "text/plain": [
              "<keras.callbacks.History at 0x7f63eb22aef0>"
            ]
          },
          "metadata": {
            "tags": []
          },
          "execution_count": 138
        }
      ]
    },
    {
      "metadata": {
        "id": "WFPFSCSB3uRb",
        "colab_type": "code",
        "colab": {
          "base_uri": "https://localhost:8080/",
          "height": 615
        },
        "outputId": "756f0d20-12c9-4d7d-9d39-1f63df9196b4"
      },
      "cell_type": "code",
      "source": [
        "model.save(\"my_model.h5\")\n",
        "model.summary()\n",
        "opt = RMSprop(0.0003)\n",
        "model.compile(loss='categorical_crossentropy', optimizer=opt, metrics=['accuracy'])\n",
        "model.fit_generator(seq, validation_data=val, steps_per_epoch=2000, epochs=2)"
      ],
      "execution_count": 0,
      "outputs": [
        {
          "output_type": "stream",
          "text": [
            "__________________________________________________________________________________________________\n",
            "Layer (type)                    Output Shape         Param #     Connected to                     \n",
            "==================================================================================================\n",
            "input_50 (InputLayer)           (None, None)         0                                            \n",
            "__________________________________________________________________________________________________\n",
            "embedding_82 (Embedding)        (None, None, 512)    29696       input_50[0][0]                   \n",
            "__________________________________________________________________________________________________\n",
            "bidirectional_256 (Bidirectiona (None, None, 1024)   4202496     embedding_82[0][0]               \n",
            "__________________________________________________________________________________________________\n",
            "bidirectional_257 (Bidirectiona (None, None, 1024)   6299648     bidirectional_256[0][0]          \n",
            "__________________________________________________________________________________________________\n",
            "add_127 (Add)                   (None, None, 1024)   0           bidirectional_256[0][0]          \n",
            "                                                                 bidirectional_257[0][0]          \n",
            "__________________________________________________________________________________________________\n",
            "bidirectional_258 (Bidirectiona (None, None, 1024)   6299648     add_127[0][0]                    \n",
            "__________________________________________________________________________________________________\n",
            "add_128 (Add)                   (None, None, 1024)   0           add_127[0][0]                    \n",
            "                                                                 bidirectional_258[0][0]          \n",
            "__________________________________________________________________________________________________\n",
            "bidirectional_259 (Bidirectiona (None, None, 1024)   6299648     add_128[0][0]                    \n",
            "__________________________________________________________________________________________________\n",
            "add_129 (Add)                   (None, None, 1024)   0           add_128[0][0]                    \n",
            "                                                                 bidirectional_259[0][0]          \n",
            "__________________________________________________________________________________________________\n",
            "dense_74 (Dense)                (None, None, 15)     15375       add_129[0][0]                    \n",
            "==================================================================================================\n",
            "Total params: 23,146,511\n",
            "Trainable params: 23,146,511\n",
            "Non-trainable params: 0\n",
            "__________________________________________________________________________________________________\n",
            "Epoch 1/2\n",
            "  33/2000 [..............................] - ETA: 35:14 - loss: 0.0640 - acc: 0.9790"
          ],
          "name": "stdout"
        },
        {
          "output_type": "stream",
          "text": [
            "1999/2000 [============================>.] - ETA: 0s - loss: 0.0632 - acc: 0.9793"
          ],
          "name": "stdout"
        },
        {
          "output_type": "stream",
          "text": [
            "\b\b\b\b\b\b\b\b\b\b\b\b\b\b\b\b\b\b\b\b\b\b\b\b\b\b\b\b\b\b\b\b\b\b\b\b\b\b\b\b\b\b\b\b\b\b\b\b\b\b\b\b\b\b\b\b\b\b\b\b\b\b\b\b\b\b\b\b\b\b\b\b\b\b\b\b\b\b\b\b\b\r2000/2000 [==============================] - 1022s 511ms/step - loss: 0.0632 - acc: 0.9793 - val_loss: 0.0775 - val_acc: 0.9757\n",
            "Epoch 2/2\n",
            " 327/2000 [===>..........................] - ETA: 11:57 - loss: 0.0603 - acc: 0.9800"
          ],
          "name": "stdout"
        },
        {
          "output_type": "stream",
          "text": [
            "1999/2000 [============================>.] - ETA: 0s - loss: 0.0600 - acc: 0.9801"
          ],
          "name": "stdout"
        }
      ]
    },
    {
      "metadata": {
        "id": "AAeiL4ayXRNO",
        "colab_type": "code",
        "colab": {}
      },
      "cell_type": "code",
      "source": [
        "model.save(\"my_model_512.h5\")\n",
        "#test = batchSeq(X_test, y_test, bptt, bptt, 128)\n",
        "#model.evaluate_generator(test)"
      ],
      "execution_count": 0,
      "outputs": []
    },
    {
      "metadata": {
        "id": "910S6Ap8Xmqv",
        "colab_type": "text"
      },
      "cell_type": "markdown",
      "source": [
        ""
      ]
    },
    {
      "metadata": {
        "id": "7E9-fc4ze5nk",
        "colab_type": "code",
        "colab": {
          "base_uri": "https://localhost:8080/",
          "height": 231
        },
        "outputId": "70f145fd-3777-4b94-eb91-e098900e1881"
      },
      "cell_type": "code",
      "source": [
        "test = batchSeq(X_test, y_test, bptt, bptt, 64, randlen=False)\n",
        "i = 0\n",
        "n = len(test)\n",
        "accuracy = np.zeros((n, bptt))\n",
        "for bx, by in test:\n",
        "  prediction = model.predict_on_batch(bx)\n",
        "  #print(prediction.shape, by.shape)\n",
        "  predicts = np.argmax(prediction, axis=-1)\n",
        "  truth = np.argmax(by, axis=-1)\n",
        "  eq = np.equal(predicts, truth)\n",
        "  accuracy[i,:] = np.mean(eq, axis=0)\n",
        "  #accuracy += acc/n\n",
        "  i += 1\n",
        "  if i==n:\n",
        "    break\n",
        "np.mean(accuracy, axis=0)"
      ],
      "execution_count": 1,
      "outputs": [
        {
          "output_type": "error",
          "ename": "NameError",
          "evalue": "ignored",
          "traceback": [
            "\u001b[0;31m---------------------------------------------------------------------------\u001b[0m",
            "\u001b[0;31mNameError\u001b[0m                                 Traceback (most recent call last)",
            "\u001b[0;32m<ipython-input-1-2e1a648c9e47>\u001b[0m in \u001b[0;36m<module>\u001b[0;34m()\u001b[0m\n\u001b[0;32m----> 1\u001b[0;31m \u001b[0mtest\u001b[0m \u001b[0;34m=\u001b[0m \u001b[0mbatchSeq\u001b[0m\u001b[0;34m(\u001b[0m\u001b[0mX_test\u001b[0m\u001b[0;34m,\u001b[0m \u001b[0my_test\u001b[0m\u001b[0;34m,\u001b[0m \u001b[0mbptt\u001b[0m\u001b[0;34m,\u001b[0m \u001b[0mbptt\u001b[0m\u001b[0;34m,\u001b[0m \u001b[0;36m64\u001b[0m\u001b[0;34m,\u001b[0m \u001b[0mrandlen\u001b[0m\u001b[0;34m=\u001b[0m\u001b[0;32mFalse\u001b[0m\u001b[0;34m)\u001b[0m\u001b[0;34m\u001b[0m\u001b[0m\n\u001b[0m\u001b[1;32m      2\u001b[0m \u001b[0mi\u001b[0m \u001b[0;34m=\u001b[0m \u001b[0;36m0\u001b[0m\u001b[0;34m\u001b[0m\u001b[0m\n\u001b[1;32m      3\u001b[0m \u001b[0mn\u001b[0m \u001b[0;34m=\u001b[0m \u001b[0mlen\u001b[0m\u001b[0;34m(\u001b[0m\u001b[0mtest\u001b[0m\u001b[0;34m)\u001b[0m\u001b[0;34m\u001b[0m\u001b[0m\n\u001b[1;32m      4\u001b[0m \u001b[0maccuracy\u001b[0m \u001b[0;34m=\u001b[0m \u001b[0mnp\u001b[0m\u001b[0;34m.\u001b[0m\u001b[0mzeros\u001b[0m\u001b[0;34m(\u001b[0m\u001b[0;34m(\u001b[0m\u001b[0mn\u001b[0m\u001b[0;34m,\u001b[0m \u001b[0mbptt\u001b[0m\u001b[0;34m)\u001b[0m\u001b[0;34m)\u001b[0m\u001b[0;34m\u001b[0m\u001b[0m\n\u001b[1;32m      5\u001b[0m \u001b[0;32mfor\u001b[0m \u001b[0mbx\u001b[0m\u001b[0;34m,\u001b[0m \u001b[0mby\u001b[0m \u001b[0;32min\u001b[0m \u001b[0mtest\u001b[0m\u001b[0;34m:\u001b[0m\u001b[0;34m\u001b[0m\u001b[0m\n",
            "\u001b[0;31mNameError\u001b[0m: name 'batchSeq' is not defined"
          ]
        }
      ]
    },
    {
      "metadata": {
        "id": "BAm7K0VIm1Ta",
        "colab_type": "code",
        "colab": {
          "base_uri": "https://localhost:8080/",
          "height": 34
        },
        "outputId": "c9c84ad1-c768-4fab-fea9-bd38f9eda8a5"
      },
      "cell_type": "code",
      "source": [
        "np.mean(accuracy[:,5:-5])"
      ],
      "execution_count": 144,
      "outputs": [
        {
          "output_type": "execute_result",
          "data": {
            "text/plain": [
              "0.9835456972361809"
            ]
          },
          "metadata": {
            "tags": []
          },
          "execution_count": 144
        }
      ]
    },
    {
      "metadata": {
        "id": "fSY-W4gBkV9J",
        "colab_type": "code",
        "colab": {
          "base_uri": "https://localhost:8080/",
          "height": 731
        },
        "outputId": "51546289-bbb0-4684-ac6b-1a96c08c2a70"
      },
      "cell_type": "code",
      "source": [
        "stride = 10\n",
        "bs = 128\n",
        "test_seq = batchSeq(X_test, y_test, bptt, stride, bs, randlen=False)\n",
        "n = len(test)\n",
        "N = n*bs*(bptt//stride)\n",
        "predictions = np.zeros((N, 15))\n",
        "truth = np.zeros((N, 15))\n",
        "accuracy = np.zeros((n, bptt))\n",
        "for i in range(n):\n",
        "  bx, by = test_seq[i]\n",
        "  prediction = model.predict_on_batch(bx)\n",
        "  #print(prediction.shape, by.shape)\n",
        "  for j in range(bptt):\n",
        "    for k in range(bs):\n",
        "      idx = (bs*i+k)*(bptt//stride)+j\n",
        "      if 0<=idx<N: \n",
        "        predictions[idx, :] += prediction[k, j, :]/(bptt//stride)\n",
        "        truth[idx, : ] += by[k, j, :]/(bptt//stride)\n",
        "  #predicts = np.argmax(prediction, axis=-1)\n",
        "  #truth = np.argmax(by, axis=-1)\n",
        "predicts = np.argmax(predictions, axis=-1)\n",
        "print(predictions[20:30])\n",
        "print(predicts[20:30])\n",
        "truth = np.argmax(truth, axis=-1)\n",
        "eq = np.equal(predicts, truth)\n",
        "acc = np.mean(eq)\n",
        "acc"
      ],
      "execution_count": 134,
      "outputs": [
        {
          "output_type": "stream",
          "text": [
            "[[1.66440375e-01 1.66555998e-01 5.45430667e-07 1.37127699e-06\n",
            "  1.35857382e-08 1.73643918e-05 1.79739603e-06 1.13637903e-05\n",
            "  1.66734772e-01 2.87334701e-04 1.66614780e-01 8.57745926e-10\n",
            "  1.62097910e-07 7.25320541e-07 4.62454226e-08]\n",
            " [1.66666554e-01 1.66099045e-01 2.87560062e-05 5.01873289e-04\n",
            "  1.04844120e-06 1.66607004e-01 1.12395787e-05 1.66320229e-01\n",
            "  3.96618167e-04 4.76814796e-06 2.78298442e-05 3.41668239e-08\n",
            "  6.65284809e-08 1.31906920e-06 2.86523779e-07]\n",
            " [3.33411851e-01 1.66162859e-01 4.92438056e-06 1.26863552e-04\n",
            "  3.07985881e-07 1.15845475e-04 6.37416362e-06 2.65019825e-05\n",
            "  1.66571734e-01 9.97469544e-05 1.24080060e-04 2.70862569e-08\n",
            "  9.66325904e-06 5.50666297e-06 4.09186421e-07]\n",
            " [5.00067218e-01 6.44284815e-06 6.93440639e-09 8.35946053e-08\n",
            "  5.71389556e-09 1.11877667e-06 9.28912774e-05 7.85073762e-07\n",
            "  1.12680068e-06 3.68234111e-08 1.66495026e-01 8.63286394e-10\n",
            "  1.83451153e-06 7.57978273e-08 7.84488829e-09]\n",
            " [3.37699311e-01 1.66803725e-01 7.81902245e-05 3.75425302e-04\n",
            "  1.83641819e-04 3.08650554e-03 1.23923440e-02 1.35686992e-02\n",
            "  1.67014512e-01 2.32682141e-03 1.04094110e-01 6.79855561e-06\n",
            "  2.35410018e-02 7.73962281e-04 1.38829834e-03]\n",
            " [1.66662205e-01 1.66437304e-01 2.90255821e-05 1.77434179e-04\n",
            "  3.78084434e-07 3.33265988e-01 1.44221552e-05 1.66408332e-01\n",
            "  3.15094616e-04 8.58369205e-06 1.34177321e-05 2.93505100e-08\n",
            "  1.13482753e-07 8.30286865e-07 2.11867058e-07]\n",
            " [6.66689660e-01 1.66453515e-01 2.35866168e-06 5.13334838e-05\n",
            "  9.09347125e-08 6.28028470e-05 4.84426129e-06 1.23888090e-05\n",
            "  3.32834647e-07 3.42010557e-05 1.69300766e-05 1.19873350e-08\n",
            "  3.60568049e-06 1.14822556e-06 1.04879906e-07]\n",
            " [6.66613005e-01 4.32606673e-05 3.62961112e-07 1.66569691e-01\n",
            "  3.44609216e-07 3.02263619e-06 5.23592910e-07 6.98162897e-08\n",
            "  1.24015074e-05 8.38969851e-05 1.69532062e-07 1.89907084e-09\n",
            "  6.46479033e-06 1.27110712e-07 1.16265928e-08]\n",
            " [1.66904672e-01 1.66903408e-01 8.13016224e-05 5.97163788e-05\n",
            "  3.19227326e-05 1.67708970e-01 4.26195456e-03 2.73916743e-04\n",
            "  1.66734568e-01 1.97054972e-05 1.59044622e-01 2.58797746e-05\n",
            "  7.14010465e-05 4.27100142e-04 7.84206299e-04]\n",
            " [3.33328025e-01 1.66454730e-01 3.19121680e-05 1.54189767e-04\n",
            "  4.89717073e-07 3.33257381e-01 2.15773603e-06 3.96623850e-06\n",
            "  7.74471698e-05 7.47314516e-06 1.38771260e-05 3.64597687e-08\n",
            "  1.28900641e-07 1.25436912e-06 2.52332251e-07]]\n",
            "[8 0 0 0 0 5 0 0 5 0]\n"
          ],
          "name": "stdout"
        },
        {
          "output_type": "execute_result",
          "data": {
            "text/plain": [
              "0.9800748534338358"
            ]
          },
          "metadata": {
            "tags": []
          },
          "execution_count": 134
        }
      ]
    },
    {
      "metadata": {
        "id": "s999j5IP3TBD",
        "colab_type": "code",
        "colab": {
          "base_uri": "https://localhost:8080/",
          "height": 122
        },
        "outputId": "fccdb6b2-4073-4eca-9457-f6a15b4558e1"
      },
      "cell_type": "code",
      "source": [
        "opt = RMSprop(0.0002)\n",
        "model.compile(loss='categorical_crossentropy', optimizer=opt, metrics=['accuracy'])\n",
        "model.fit_generator(seq, validation_data=val, epochs=2)"
      ],
      "execution_count": 20,
      "outputs": [
        {
          "output_type": "stream",
          "text": [
            "Epoch 1/2\n",
            "4477/4478 [============================>.] - ETA: 0s - loss: 0.0871 - acc: 0.9712"
          ],
          "name": "stdout"
        },
        {
          "output_type": "stream",
          "text": [
            "\b\b\b\b\b\b\b\b\b\b\b\b\b\b\b\b\b\b\b\b\b\b\b\b\b\b\b\b\b\b\b\b\b\b\b\b\b\b\b\b\b\b\b\b\b\b\b\b\b\b\b\b\b\b\b\b\b\b\b\b\b\b\b\b\b\b\b\b\b\b\b\b\b\b\b\b\b\b\b\b\b\r4478/4478 [==============================] - 2243s 501ms/step - loss: 0.0870 - acc: 0.9712 - val_loss: 0.0886 - val_acc: 0.9709\n",
            "Epoch 2/2\n",
            " 327/4478 [=>............................] - ETA: 33:13 - loss: 0.0678 - acc: 0.9772"
          ],
          "name": "stdout"
        },
        {
          "output_type": "stream",
          "text": [
            "4477/4478 [============================>.] - ETA: 0s - loss: 0.0704 - acc: 0.9764"
          ],
          "name": "stdout"
        },
        {
          "output_type": "stream",
          "text": [
            "\b\b\b\b\b\b\b\b\b\b\b\b\b\b\b\b\b\b\b\b\b\b\b\b\b\b\b\b\b\b\b\b\b\b\b\b\b\b\b\b\b\b\b\b\b\b\b\b\b\b\b\b\b\b\b\b\b\b\b\b\b\b\b\b\b\b\b\b\b\b\b\b\b\b\b\b\b\b\b\b\b\r4478/4478 [==============================] - 2236s 499ms/step - loss: 0.0705 - acc: 0.9764 - val_loss: 0.0847 - val_acc: 0.9723\n"
          ],
          "name": "stdout"
        },
        {
          "output_type": "execute_result",
          "data": {
            "text/plain": [
              "<keras.callbacks.History at 0x7fefcd6f4e10>"
            ]
          },
          "metadata": {
            "tags": []
          },
          "execution_count": 20
        }
      ]
    },
    {
      "metadata": {
        "id": "mC5q-B-EwI1z",
        "colab_type": "code",
        "colab": {
          "base_uri": "https://localhost:8080/",
          "height": 656
        },
        "outputId": "8f68a5d3-4080-4215-ff8e-69ddad5753d6"
      },
      "cell_type": "code",
      "source": [
        "from keras import models\n",
        "model = models.load_model(\"my_model.h5\")\n"
      ],
      "execution_count": 2,
      "outputs": [
        {
          "output_type": "stream",
          "text": [
            "Using TensorFlow backend.\n"
          ],
          "name": "stderr"
        },
        {
          "output_type": "error",
          "ename": "OSError",
          "evalue": "ignored",
          "traceback": [
            "\u001b[0;31m---------------------------------------------------------------------------\u001b[0m",
            "\u001b[0;31mOSError\u001b[0m                                   Traceback (most recent call last)",
            "\u001b[0;32m<ipython-input-2-e0f938d10b98>\u001b[0m in \u001b[0;36m<module>\u001b[0;34m()\u001b[0m\n\u001b[1;32m      1\u001b[0m \u001b[0;32mfrom\u001b[0m \u001b[0mkeras\u001b[0m \u001b[0;32mimport\u001b[0m \u001b[0mmodels\u001b[0m\u001b[0;34m\u001b[0m\u001b[0m\n\u001b[0;32m----> 2\u001b[0;31m \u001b[0mmodel\u001b[0m \u001b[0;34m=\u001b[0m \u001b[0mmodels\u001b[0m\u001b[0;34m.\u001b[0m\u001b[0mload_model\u001b[0m\u001b[0;34m(\u001b[0m\u001b[0;34m\"my_model.h5\"\u001b[0m\u001b[0;34m)\u001b[0m\u001b[0;34m\u001b[0m\u001b[0m\n\u001b[0m",
            "\u001b[0;32m/usr/local/lib/python3.6/dist-packages/keras/models.py\u001b[0m in \u001b[0;36mload_model\u001b[0;34m(filepath, custom_objects, compile)\u001b[0m\n\u001b[1;32m    258\u001b[0m     \u001b[0mopened_new_file\u001b[0m \u001b[0;34m=\u001b[0m \u001b[0;32mnot\u001b[0m \u001b[0misinstance\u001b[0m\u001b[0;34m(\u001b[0m\u001b[0mfilepath\u001b[0m\u001b[0;34m,\u001b[0m \u001b[0mh5py\u001b[0m\u001b[0;34m.\u001b[0m\u001b[0mFile\u001b[0m\u001b[0;34m)\u001b[0m\u001b[0;34m\u001b[0m\u001b[0m\n\u001b[1;32m    259\u001b[0m     \u001b[0;32mif\u001b[0m \u001b[0mopened_new_file\u001b[0m\u001b[0;34m:\u001b[0m\u001b[0;34m\u001b[0m\u001b[0m\n\u001b[0;32m--> 260\u001b[0;31m         \u001b[0mf\u001b[0m \u001b[0;34m=\u001b[0m \u001b[0mh5py\u001b[0m\u001b[0;34m.\u001b[0m\u001b[0mFile\u001b[0m\u001b[0;34m(\u001b[0m\u001b[0mfilepath\u001b[0m\u001b[0;34m,\u001b[0m \u001b[0mmode\u001b[0m\u001b[0;34m=\u001b[0m\u001b[0;34m'r'\u001b[0m\u001b[0;34m)\u001b[0m\u001b[0;34m\u001b[0m\u001b[0m\n\u001b[0m\u001b[1;32m    261\u001b[0m     \u001b[0;32melse\u001b[0m\u001b[0;34m:\u001b[0m\u001b[0;34m\u001b[0m\u001b[0m\n\u001b[1;32m    262\u001b[0m         \u001b[0mf\u001b[0m \u001b[0;34m=\u001b[0m \u001b[0mfilepath\u001b[0m\u001b[0;34m\u001b[0m\u001b[0m\n",
            "\u001b[0;32m/usr/local/lib/python3.6/dist-packages/h5py/_hl/files.py\u001b[0m in \u001b[0;36m__init__\u001b[0;34m(self, name, mode, driver, libver, userblock_size, swmr, **kwds)\u001b[0m\n\u001b[1;32m    310\u001b[0m             \u001b[0;32mwith\u001b[0m \u001b[0mphil\u001b[0m\u001b[0;34m:\u001b[0m\u001b[0;34m\u001b[0m\u001b[0m\n\u001b[1;32m    311\u001b[0m                 \u001b[0mfapl\u001b[0m \u001b[0;34m=\u001b[0m \u001b[0mmake_fapl\u001b[0m\u001b[0;34m(\u001b[0m\u001b[0mdriver\u001b[0m\u001b[0;34m,\u001b[0m \u001b[0mlibver\u001b[0m\u001b[0;34m,\u001b[0m \u001b[0;34m**\u001b[0m\u001b[0mkwds\u001b[0m\u001b[0;34m)\u001b[0m\u001b[0;34m\u001b[0m\u001b[0m\n\u001b[0;32m--> 312\u001b[0;31m                 \u001b[0mfid\u001b[0m \u001b[0;34m=\u001b[0m \u001b[0mmake_fid\u001b[0m\u001b[0;34m(\u001b[0m\u001b[0mname\u001b[0m\u001b[0;34m,\u001b[0m \u001b[0mmode\u001b[0m\u001b[0;34m,\u001b[0m \u001b[0muserblock_size\u001b[0m\u001b[0;34m,\u001b[0m \u001b[0mfapl\u001b[0m\u001b[0;34m,\u001b[0m \u001b[0mswmr\u001b[0m\u001b[0;34m=\u001b[0m\u001b[0mswmr\u001b[0m\u001b[0;34m)\u001b[0m\u001b[0;34m\u001b[0m\u001b[0m\n\u001b[0m\u001b[1;32m    313\u001b[0m \u001b[0;34m\u001b[0m\u001b[0m\n\u001b[1;32m    314\u001b[0m                 \u001b[0;32mif\u001b[0m \u001b[0mswmr_support\u001b[0m\u001b[0;34m:\u001b[0m\u001b[0;34m\u001b[0m\u001b[0m\n",
            "\u001b[0;32m/usr/local/lib/python3.6/dist-packages/h5py/_hl/files.py\u001b[0m in \u001b[0;36mmake_fid\u001b[0;34m(name, mode, userblock_size, fapl, fcpl, swmr)\u001b[0m\n\u001b[1;32m    140\u001b[0m         \u001b[0;32mif\u001b[0m \u001b[0mswmr\u001b[0m \u001b[0;32mand\u001b[0m \u001b[0mswmr_support\u001b[0m\u001b[0;34m:\u001b[0m\u001b[0;34m\u001b[0m\u001b[0m\n\u001b[1;32m    141\u001b[0m             \u001b[0mflags\u001b[0m \u001b[0;34m|=\u001b[0m \u001b[0mh5f\u001b[0m\u001b[0;34m.\u001b[0m\u001b[0mACC_SWMR_READ\u001b[0m\u001b[0;34m\u001b[0m\u001b[0m\n\u001b[0;32m--> 142\u001b[0;31m         \u001b[0mfid\u001b[0m \u001b[0;34m=\u001b[0m \u001b[0mh5f\u001b[0m\u001b[0;34m.\u001b[0m\u001b[0mopen\u001b[0m\u001b[0;34m(\u001b[0m\u001b[0mname\u001b[0m\u001b[0;34m,\u001b[0m \u001b[0mflags\u001b[0m\u001b[0;34m,\u001b[0m \u001b[0mfapl\u001b[0m\u001b[0;34m=\u001b[0m\u001b[0mfapl\u001b[0m\u001b[0;34m)\u001b[0m\u001b[0;34m\u001b[0m\u001b[0m\n\u001b[0m\u001b[1;32m    143\u001b[0m     \u001b[0;32melif\u001b[0m \u001b[0mmode\u001b[0m \u001b[0;34m==\u001b[0m \u001b[0;34m'r+'\u001b[0m\u001b[0;34m:\u001b[0m\u001b[0;34m\u001b[0m\u001b[0m\n\u001b[1;32m    144\u001b[0m         \u001b[0mfid\u001b[0m \u001b[0;34m=\u001b[0m \u001b[0mh5f\u001b[0m\u001b[0;34m.\u001b[0m\u001b[0mopen\u001b[0m\u001b[0;34m(\u001b[0m\u001b[0mname\u001b[0m\u001b[0;34m,\u001b[0m \u001b[0mh5f\u001b[0m\u001b[0;34m.\u001b[0m\u001b[0mACC_RDWR\u001b[0m\u001b[0;34m,\u001b[0m \u001b[0mfapl\u001b[0m\u001b[0;34m=\u001b[0m\u001b[0mfapl\u001b[0m\u001b[0;34m)\u001b[0m\u001b[0;34m\u001b[0m\u001b[0m\n",
            "\u001b[0;32mh5py/_objects.pyx\u001b[0m in \u001b[0;36mh5py._objects.with_phil.wrapper\u001b[0;34m()\u001b[0m\n",
            "\u001b[0;32mh5py/_objects.pyx\u001b[0m in \u001b[0;36mh5py._objects.with_phil.wrapper\u001b[0;34m()\u001b[0m\n",
            "\u001b[0;32mh5py/h5f.pyx\u001b[0m in \u001b[0;36mh5py.h5f.open\u001b[0;34m()\u001b[0m\n",
            "\u001b[0;31mOSError\u001b[0m: Unable to open file (unable to open file: name = 'my_model.h5', errno = 2, error message = 'No such file or directory', flags = 0, o_flags = 0)"
          ]
        }
      ]
    }
  ]
}